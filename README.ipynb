{
 "cells": [
  {
   "cell_type": "markdown",
   "id": "fdfbd5e9",
   "metadata": {},
   "source": [
    "# Converting TFLEARN model to Keras"
   ]
  },
  {
   "cell_type": "markdown",
   "id": "fc5f85d4",
   "metadata": {},
   "source": [
    "Hello everyone, today we are going to learn how to convert a simple neural network made in TFLEARN to Keras"
   ]
  },
  {
   "cell_type": "markdown",
   "id": "fbd87c55",
   "metadata": {},
   "source": [
    "The neural network that I want to translate to **Keras** from **TFLEARN** is the following:"
   ]
  },
  {
   "cell_type": "code",
   "execution_count": 1,
   "id": "7e40f7c8",
   "metadata": {},
   "outputs": [],
   "source": [
    "def alexnet_adapted(width, height, lr, output=29):\n",
    "    # Building 'AlexNet'                                                               #line  Type Layer   Operation\n",
    "    network = input_data(shape=[None, width, height, 3])                               #0\n",
    "    network = conv_2d(network, filters1, kernel1, stride1, activation='relu')          #1    CONV1         1\n",
    "    network = max_pool_2d(network, kernel2, strides=stride2 )                          #2    POOL1         2\n",
    "    network = local_response_normalization(network)                                    #3    \n",
    "    network = conv_2d(network, filters3 , kernel3 , activation='relu')                 #4    CONV2         3\n",
    "    network = max_pool_2d(network, kernel4, strides=stride4)                           #5    POOL2         4\n",
    "    network = local_response_normalization(network)                                    #6\n",
    "    network = conv_2d(network, filters5 , kernel5 , activation='relu')                 #7    CONV3         5\n",
    "    network = conv_2d(network, filters6 , kernel6 , activation='relu')                 #8    CONV4         6\n",
    "    network = conv_2d(network, filters7, kernel7 , activation='relu')                  #9    CONV5         7\n",
    "    network = max_pool_2d(network, kernel8 , strides=stride8 )                         #10   POOL3         8\n",
    "    network = local_response_normalization(network)                                    #11   \n",
    "    network = fully_connected(network, activation9, activation='relu')                 #12    FC1          9\n",
    "    network = dropout(network, dropout13)                                              #13\n",
    "    network = fully_connected(network, activation10, activation='relu')                #14    FC2          10\n",
    "    network = dropout(network, dropout15)                                              #15\n",
    "    network = fully_connected(network, outputs11, activation='softmax')                #16    FC3          11\n",
    "    network = regression(network, optimizer='momentum',                                #17\n",
    "                         loss='categorical_crossentropy',\n",
    "                         learning_rate=learning_rate17)\n",
    "\n",
    "    # Training\n",
    "    model = tflearn.DNN(network, checkpoint_path='alexnet',\n",
    "                        max_checkpoints=1, tensorboard_verbose=2, tensorboard_dir='log')\n",
    "\n",
    "    return model"
   ]
  },
  {
   "cell_type": "markdown",
   "id": "e5999b1e",
   "metadata": {},
   "source": [
    "This is the adapted version of the Alexnet Network to the **MMORPG-AI** problem"
   ]
  },
  {
   "cell_type": "markdown",
   "id": "f7d39e1f",
   "metadata": {},
   "source": [
    "## Step 1  Analysis of the architecture of the network"
   ]
  },
  {
   "cell_type": "markdown",
   "id": "de1bea83",
   "metadata": {},
   "source": [
    "What we have to pay attention is  the architecture  and the dimensions of each layer.\n",
    "The network mentioned before contains three types of layers in a convolution:\n",
    "\n",
    "- Convolution (CONV)\n",
    "- Pooling (POOL)\n",
    "- Fully connected (FC)\n"
   ]
  },
  {
   "cell_type": "markdown",
   "id": "e4eaad1f",
   "metadata": {},
   "source": [
    "What we have to do is define the  network using **Keras library**. \n",
    "The parameters of the network will be kept according to the above descriptions, \n",
    "\n",
    "- 5 convolutional layers with kernel size \n",
    "- 3 fully connected layers,with different  activation function at all layers except at the output layer. \n",
    "\n",
    "Since we will test this model **MMORPG- AI** problem \n",
    "at the output layer we will define a Dense layer with **29 nodes**."
   ]
  },
  {
   "cell_type": "markdown",
   "id": "4600c381",
   "metadata": {},
   "source": [
    "Let us define some helper functions to generalize the parameters of the **Adapted version** of the Neural Network of AlexNet."
   ]
  },
  {
   "cell_type": "code",
   "execution_count": 5,
   "id": "776f03ce",
   "metadata": {},
   "outputs": [],
   "source": [
    "#round a float up to next even number\n",
    "import math\n",
    "def roundeven(f):\n",
    "    return math.ceil(f / 2.) * 2"
   ]
  },
  {
   "cell_type": "markdown",
   "id": "a15242c2",
   "metadata": {},
   "source": [
    "with the following set of parameter"
   ]
  },
  {
   "cell_type": "code",
   "execution_count": 17,
   "id": "120260e5",
   "metadata": {},
   "outputs": [],
   "source": [
    "#Normalization Parameter\n",
    "Norma        = 29/1000\n",
    "#Paramters                          Operation \n",
    "filters1     =  roundeven(96*Norma)   #1\n",
    "kernel1      =  11       \n",
    "stride1      =  4\n",
    "kernel2      =  3                     #2\n",
    "stride2      =  2\n",
    "filters3     =  roundeven(256*Norma)  #3\n",
    "kernel3      =  5\n",
    "kernel4      =  3                     #4\n",
    "stride4      =  2\n",
    "filters5     =  roundeven(384*Norma)  #5\n",
    "kernel5      =  3\n",
    "filters6     =  roundeven(384*Norma)  #6\n",
    "kernel6      =  3\n",
    "filters7     =  roundeven(256*Norma)  #7\n",
    "kernel7      =  3\n",
    "kernel8      =  3                      #8\n",
    "stride8      =  2 \n",
    "activation9  =  roundeven(4096*Norma)  #9\n",
    "activation10 =  roundeven(4096*Norma)  #10\n",
    "outputs11    =  int(1000*Norma)   #11\n",
    "\n",
    "dropout13=0.5\n",
    "dropout15=0.5\n",
    "learning_rate17=0.001"
   ]
  },
  {
   "cell_type": "code",
   "execution_count": 18,
   "id": "5626994c",
   "metadata": {},
   "outputs": [
    {
     "data": {
      "text/plain": [
       "4"
      ]
     },
     "execution_count": 18,
     "metadata": {},
     "output_type": "execute_result"
    }
   ],
   "source": []
  },
  {
   "cell_type": "markdown",
   "id": "6110e6ba",
   "metadata": {},
   "source": [
    "The model that we want to translate is simply a modified version of the AlexNet Network. From the previous parametrization we can determine the values of the **activation shape**, **activation size** and **number of parameters**, as was described in my previous blog."
   ]
  },
  {
   "cell_type": "markdown",
   "id": "21574b02",
   "metadata": {},
   "source": [
    "```\n",
    "Operation, Activation Shape, Activation Size, #Parameters\n",
    "0 (270, 480, 3)\n",
    "1 ((65, 118, 96), 736320, 34944)\n",
    "2 ((32, 58, 96), 178176, 0)\n",
    "3 ((32, 58, 256), 475136, 614656)\n",
    "4 ((15, 28, 256), 107520, 0)\n",
    "5 ((15, 28, 384), 161280, 885120)\n",
    "6 ((15, 28, 384), 161280, 1327488)\n",
    "7 ((15, 28, 256), 107520, 884992)\n",
    "8 ((7, 13, 256), 23296, 0)\n",
    "9 ((4096, 1), 4096, 95424512)\n",
    "10 ((4096, 1), 4096, 16781312)\n",
    "11 ((29, 1), 29, 118813)\n",
    "```"
   ]
  },
  {
   "cell_type": "markdown",
   "id": "798300b5",
   "metadata": {},
   "source": [
    "Having in mind those numbers it is more simple perform the translation from one to another neural network formalism."
   ]
  },
  {
   "cell_type": "markdown",
   "id": "69907c4f",
   "metadata": {},
   "source": [
    "In ordering to simplify the discussion of this notebook let us define the following helper function, which simply give us the activation shape of the Convolution Network"
   ]
  },
  {
   "cell_type": "code",
   "execution_count": 25,
   "id": "6499cac4",
   "metadata": {},
   "outputs": [],
   "source": [
    "def nparameters_convolution(inputs, kernel,stride,padding,filters):\n",
    "    '''\n",
    "    input = (nh, nw, nc)\n",
    "    where \n",
    "    nh: height\n",
    "    nw: widht\n",
    "    nc: channels\n",
    "    \n",
    "    activation_shape  = (nhl,nwl,ncl)\n",
    "       \n",
    "    nhl = (nh+2*p-fw)/s + 1\n",
    "    nwl = (nw+2*p-fh)/s + 1\n",
    "    ncl = filters\n",
    "    \n",
    "    \n",
    "    where\n",
    "       fw,fh : filter sizes\n",
    "       p : padding\n",
    "       s : stride  \n",
    "    ncl  : filters\n",
    "    \n",
    "    '''\n",
    "    nh,nw,nc = inputs\n",
    "    fh,fw = kernel\n",
    "     \n",
    "    s        = stride\n",
    "    p        = padding\n",
    "    ncl      = filters\n",
    "    \n",
    "    #activation shape \n",
    "    nhl = (nh+2*p-fw)/s + 1\n",
    "    nwl = (nw+2*p-fh)/s + 1\n",
    "    activation_shape = (int(nhl),int(nwl),int(ncl))\n",
    "    \n",
    "    # activation size\n",
    "    activation_size=int(nhl)*int(nwl)*int(ncl)\n",
    "    \n",
    "    \n",
    "    # number Parameters\n",
    "    nparameters=((fh*fw*nc)+1)*ncl\n",
    "    \n",
    "    print(\"Activation Shape,\", \"Activation Size,\",\"# Parameters\")\n",
    "     \n",
    "    return   activation_shape ,  activation_size, nparameters"
   ]
  },
  {
   "cell_type": "markdown",
   "id": "ce31ddef",
   "metadata": {},
   "source": [
    "## Step 2  - Importing library for Keras"
   ]
  },
  {
   "cell_type": "code",
   "execution_count": 2,
   "id": "ed76dbd8",
   "metadata": {},
   "outputs": [],
   "source": [
    "#Importing library\n",
    "import keras\n",
    "from keras.models import Sequential\n",
    "from keras.layers import Dense, Activation, Dropout, Flatten, Conv2D, MaxPooling2D\n",
    "import numpy as np\n",
    "from tensorflow.keras.layers import BatchNormalization"
   ]
  },
  {
   "cell_type": "markdown",
   "id": "22a6e4bb",
   "metadata": {},
   "source": [
    "## Step 3 Determination the layers \n",
    "We define the size of the pictures"
   ]
  },
  {
   "cell_type": "code",
   "execution_count": 37,
   "id": "c035a827",
   "metadata": {},
   "outputs": [],
   "source": [
    "width= 480\n",
    "height= 270\n",
    "ncolors=3"
   ]
  },
  {
   "cell_type": "markdown",
   "id": "4019b4b7",
   "metadata": {},
   "source": [
    "We instantiation the network in Keras like "
   ]
  },
  {
   "cell_type": "code",
   "execution_count": 38,
   "id": "99e90bc0",
   "metadata": {},
   "outputs": [],
   "source": [
    "np.random.seed(1000)\n",
    "\n",
    "#Instantiation\n",
    "AlexNet = Sequential()"
   ]
  },
  {
   "cell_type": "markdown",
   "id": "f23ebfcc",
   "metadata": {},
   "source": [
    "In ordering to \"translate\" from one framework to another we need know only three types of layers in Keras."
   ]
  },
  {
   "cell_type": "markdown",
   "id": "6622fb4d",
   "metadata": {},
   "source": [
    "### 1st Convolutional Layer"
   ]
  },
  {
   "cell_type": "markdown",
   "id": "9958fdd0",
   "metadata": {},
   "source": [
    "The input layer that we will consider in this project cooresponds to an image with the following  dimensions (270, 480, 3) or simply by (width, height, ncolors),   with  kernel 11 x 11 and  stride 4 without padding and 4 filters.\n",
    "\n",
    "\n",
    "Each neuron in the convolutional layer is connected only to a local region in the input volume spatially, but to the full depth (i.e. all color channels)."
   ]
  },
  {
   "cell_type": "markdown",
   "id": "11c806da",
   "metadata": {},
   "source": [
    "![title](img/deep.jpeg)"
   ]
  },
  {
   "cell_type": "code",
   "execution_count": 70,
   "id": "09d53a7e",
   "metadata": {},
   "outputs": [
    {
     "name": "stdout",
     "output_type": "stream",
     "text": [
      "Activation Shape, Activation Size, # Parameters\n"
     ]
    },
    {
     "data": {
      "text/plain": [
       "((65, 118, 4), 30680, 1456)"
      ]
     },
     "execution_count": 70,
     "metadata": {},
     "output_type": "execute_result"
    }
   ],
   "source": [
    "inputs  = height, width, ncolors #nw x nh x nc image\n",
    "kernel  = 11,11      #fw x fw  filter\n",
    "stride  = 4.0      #stride s\n",
    "padding = 0.0      #padding p\n",
    "filters = 4        #number of filters ncl\n",
    "newinput=nparameters_convolution(inputs, kernel,stride,padding,filters)\n",
    "newinput"
   ]
  },
  {
   "cell_type": "markdown",
   "id": "9af86094",
   "metadata": {},
   "source": [
    "Where in TFELEARN the 1st Convolutional Layer called CONV1 corresponds to"
   ]
  },
  {
   "cell_type": "markdown",
   "id": "aab52886",
   "metadata": {},
   "source": [
    "```\n",
    "network = conv_2d(network, filters1, kernel1, stride1, activation='relu')          #1    CONV1         1\n",
    "```\n",
    "with the activation shape\n",
    "(65, 118, 96)\n",
    "and input \n",
    "(270, 480, 3)"
   ]
  },
  {
   "cell_type": "markdown",
   "id": "425e865b",
   "metadata": {},
   "source": [
    "A Conv2D layer outputs n feature maps, which is the number of kernels or filters, and the channels dimension is always equal to the number of output feature maps."
   ]
  },
  {
   "cell_type": "markdown",
   "id": "f8c77b70",
   "metadata": {},
   "source": [
    "The Keras Conv2D layer, given a multi-channel input (e.g. a color image), will apply the filter across ALL the color channels and sum the results, producing the equivalent of a monochrome convolved output image. In keras you have two types of Conv2d, with valid padding and same.\n",
    "\n",
    "\"valid\" only ever drops the right-most columns (or bottom-most rows).\n",
    "There's no \"made-up\" padding inputs. The layer only uses valid input data.\n",
    "\n",
    "\"same\" tries to pad evenly left and right, but if the amount of columns to be added is odd, it will add the extra column to the right, as is the case in this example (the same logic applies vertically: there may be an extra row of zeros at the bottom).\n",
    "If you use a stride of 1, the layer's outputs will have the same spatial dimensions as its inputs\n",
    "\n",
    "Example:\n",
    "\n",
    "Input width = 13\n",
    "\n",
    "Filter width = 6\n",
    "\n",
    "Stride = 5\n",
    "\n",
    "\n",
    "\"valid\" = without padding:\n",
    "\n",
    "```\n",
    "\n",
    "   inputs:         1  2  3  4  5  6  7  8  9  10 11 (12 13)\n",
    "                  |________________|                dropped\n",
    "                                 |_________________|\n",
    "```\n",
    "\n",
    "\n",
    "\"same\" = with zero padding:\n",
    "```\n",
    "               pad|                                      |pad\n",
    "   inputs:      0 |1  2  3  4  5  6  7  8  9  10 11 12 13|0  0\n",
    "               |________________|\n",
    "                              |_________________|\n",
    "                                             |________________|\n",
    "```\n",
    "\n",
    "\n"
   ]
  },
  {
   "cell_type": "code",
   "execution_count": 122,
   "id": "a049e74b",
   "metadata": {},
   "outputs": [],
   "source": [
    "def conv2d_keras(input_length,stride ,filter_size,padding):\n",
    "    if padding == 'same':   # for tf.layers.conv2d` with `same` padding\n",
    "        output_length = input_length\n",
    "    elif padding == 'valid':   # for tf.layers.conv2d` with `valid` padding\n",
    "        output_length = input_length - filter_size \n",
    "    return (output_length + stride - 1) // stride"
   ]
  },
  {
   "cell_type": "code",
   "execution_count": 129,
   "id": "a62d26de",
   "metadata": {},
   "outputs": [],
   "source": [
    "out_height = conv2d_keras(height ,stride1,filters1,'same')\n",
    "out_width  = conv2d_keras(width ,stride1,filters1,'same')"
   ]
  },
  {
   "cell_type": "code",
   "execution_count": 130,
   "id": "9af3d52c",
   "metadata": {},
   "outputs": [
    {
     "data": {
      "text/plain": [
       "(68, 120, 4)"
      ]
     },
     "execution_count": 130,
     "metadata": {},
     "output_type": "execute_result"
    }
   ],
   "source": [
    "out_height,out_width,filters1"
   ]
  },
  {
   "cell_type": "markdown",
   "id": "939b0e09",
   "metadata": {},
   "source": [
    "and then in the Keras this is given by"
   ]
  },
  {
   "cell_type": "code",
   "execution_count": 125,
   "id": "c59632ec",
   "metadata": {},
   "outputs": [],
   "source": [
    "AlexNet.add(Conv2D(filters=filters1, input_shape=(270, 480, 3), kernel_size=(kernel1,kernel1), strides=(stride1,stride1), padding='same'))"
   ]
  },
  {
   "cell_type": "code",
   "execution_count": 126,
   "id": "bddbf58e",
   "metadata": {},
   "outputs": [
    {
     "name": "stdout",
     "output_type": "stream",
     "text": [
      "Model: \"sequential_1\"\n",
      "_________________________________________________________________\n",
      " Layer (type)                Output Shape              Param #   \n",
      "=================================================================\n",
      " conv2d_1 (Conv2D)           (None, 68, 120, 4)        1456      \n",
      "                                                                 \n",
      " conv2d_2 (Conv2D)           (None, 17, 30, 4)         1940      \n",
      "                                                                 \n",
      " conv2d_3 (Conv2D)           (None, 5, 8, 4)           1940      \n",
      "                                                                 \n",
      " conv2d_4 (Conv2D)           (None, 2, 2, 4)           1940      \n",
      "                                                                 \n",
      "=================================================================\n",
      "Total params: 7,276\n",
      "Trainable params: 7,276\n",
      "Non-trainable params: 0\n",
      "_________________________________________________________________\n"
     ]
    }
   ],
   "source": [
    "#Model Summary\n",
    "AlexNet.summary()"
   ]
  },
  {
   "cell_type": "code",
   "execution_count": 8,
   "id": "7d4e8188",
   "metadata": {},
   "outputs": [],
   "source": [
    "AlexNet.add(BatchNormalization())\n",
    "AlexNet.add(Activation('relu'))"
   ]
  },
  {
   "cell_type": "markdown",
   "id": "d4fcb4a9",
   "metadata": {},
   "source": [
    "In TFLEARN the the next part\n",
    "```\n",
    "    network = max_pool_2d(network, kernel2, strides=stride2 )                          #2    POOL1         2\n",
    "    network = local_response_normalization(network)                                    #3    \n",
    "```\n",
    "in Keras may be written as"
   ]
  },
  {
   "cell_type": "code",
   "execution_count": 9,
   "id": "27e991f0",
   "metadata": {},
   "outputs": [],
   "source": [
    "AlexNet.add(MaxPooling2D(pool_size=(kernel2,kernel2), strides=(stride2,stride2), padding='same'))"
   ]
  },
  {
   "cell_type": "code",
   "execution_count": 68,
   "id": "09e3d438",
   "metadata": {},
   "outputs": [
    {
     "name": "stdout",
     "output_type": "stream",
     "text": [
      "Model: \"sequential_1\"\n",
      "_________________________________________________________________\n",
      " Layer (type)                Output Shape              Param #   \n",
      "=================================================================\n",
      " conv2d_1 (Conv2D)           (None, 68, 120, 4)        1456      \n",
      "                                                                 \n",
      " conv2d_2 (Conv2D)           (None, 17, 30, 4)         1940      \n",
      "                                                                 \n",
      "=================================================================\n",
      "Total params: 3,396\n",
      "Trainable params: 3,396\n",
      "Non-trainable params: 0\n",
      "_________________________________________________________________\n"
     ]
    }
   ],
   "source": [
    "#Model Summary\n",
    "AlexNet.summary()"
   ]
  },
  {
   "cell_type": "markdown",
   "id": "d1f4a183",
   "metadata": {},
   "source": [
    "Just for Completeness if you use  tf.layers.conv2d_transpose() with SAME padding you have"
   ]
  },
  {
   "cell_type": "code",
   "execution_count": 118,
   "id": "91c17f1d",
   "metadata": {},
   "outputs": [
    {
     "data": {
      "text/plain": [
       "(1080, 1920)"
      ]
     },
     "execution_count": 118,
     "metadata": {},
     "output_type": "execute_result"
    }
   ],
   "source": [
    "# for `tf.layers.conv2d_transpose()` with `SAME` padding:\n",
    "out_height = height * stride1\n",
    "out_width  = width * stride1\n",
    "out_height,out_width"
   ]
  },
  {
   "cell_type": "markdown",
   "id": "954659ae",
   "metadata": {},
   "source": [
    "\n",
    "### 2nd Convolutional Layer"
   ]
  },
  {
   "cell_type": "markdown",
   "id": "f5c7d708",
   "metadata": {},
   "source": [
    "In TFLEARN\n",
    "```\n",
    "    network = conv_2d(network, filters3 , kernel3 , activation='relu')                 #4    CONV2         3\n",
    "```\n",
    "and in Keras is"
   ]
  },
  {
   "cell_type": "code",
   "execution_count": 10,
   "id": "8e73194a",
   "metadata": {},
   "outputs": [],
   "source": [
    "AlexNet.add(Conv2D(filters=filters3, kernel_size=(kernel3, kernel3), strides=(1,1), padding='same'))\n",
    "AlexNet.add(BatchNormalization())\n",
    "AlexNet.add(Activation('relu'))"
   ]
  },
  {
   "cell_type": "markdown",
   "id": "c8383c4e",
   "metadata": {},
   "source": [
    "In TFELARN\n",
    "```\n",
    "    network = max_pool_2d(network, kernel4, strides=stride4)                           #5    POOL2         4\n",
    "    network = local_response_normalization(network)                                    #6\n",
    "```\n",
    "becomes in Keras"
   ]
  },
  {
   "cell_type": "code",
   "execution_count": 11,
   "id": "6001ada8",
   "metadata": {},
   "outputs": [],
   "source": [
    "AlexNet.add(MaxPooling2D(pool_size=(kernel4,kernel4), strides=(stride4,stride4), padding='same'))"
   ]
  },
  {
   "cell_type": "markdown",
   "id": "cea407e1",
   "metadata": {},
   "source": [
    "### 3rd Convolutional Layer"
   ]
  },
  {
   "cell_type": "markdown",
   "id": "5ad2e739",
   "metadata": {},
   "source": [
    "In TFLEARN\n",
    "```\n",
    "   network = conv_2d(network, filters5 , kernel5 , activation='relu')                 #7    CONV3         5\n",
    "```\n",
    "becomes in Keras"
   ]
  },
  {
   "cell_type": "code",
   "execution_count": 12,
   "id": "1f88b1f9",
   "metadata": {},
   "outputs": [],
   "source": [
    "#3rd Convolutional Layer\n",
    "AlexNet.add(Conv2D(filters=filters5, kernel_size=(kernel5,kernel5), strides=(1,1), padding='same'))\n",
    "AlexNet.add(BatchNormalization())\n",
    "AlexNet.add(Activation('relu'))"
   ]
  },
  {
   "cell_type": "markdown",
   "id": "4b063416",
   "metadata": {},
   "source": [
    "### 4th Convolutional Layer"
   ]
  },
  {
   "cell_type": "markdown",
   "id": "08e0c502",
   "metadata": {},
   "source": [
    "In TFLEARN\n",
    "```\n",
    "  network = conv_2d(network, filters6 , kernel6 , activation='relu')                 #8    CONV4         6\n",
    "```\n",
    "becomes in Keras"
   ]
  },
  {
   "cell_type": "code",
   "execution_count": 13,
   "id": "dbbc9eea",
   "metadata": {},
   "outputs": [],
   "source": [
    "#4th Convolutional Layer\n",
    "AlexNet.add(Conv2D(filters=filters6, kernel_size=( kernel6, kernel6), strides=(1,1), padding='same'))\n",
    "AlexNet.add(BatchNormalization())\n",
    "AlexNet.add(Activation('relu'))"
   ]
  },
  {
   "cell_type": "markdown",
   "id": "81b99e9b",
   "metadata": {},
   "source": [
    "### 5th Convolutional Layer"
   ]
  },
  {
   "cell_type": "markdown",
   "id": "b39c527c",
   "metadata": {},
   "source": [
    "In TFLEARN\n",
    "```\n",
    "  network = conv_2d(network, filters7, kernel7 , activation='relu')                  #9    CONV5         7\n",
    "```  \n",
    "becomes in Keras"
   ]
  },
  {
   "cell_type": "code",
   "execution_count": 14,
   "id": "5a1dc399",
   "metadata": {},
   "outputs": [],
   "source": [
    "#5th Convolutional Layer\n",
    "AlexNet.add(Conv2D(filters=filters7, kernel_size=(kernel7,kernel7), strides=(1,1), padding='same'))\n",
    "AlexNet.add(BatchNormalization())\n",
    "AlexNet.add(Activation('relu'))"
   ]
  },
  {
   "cell_type": "markdown",
   "id": "9ee903dd",
   "metadata": {},
   "source": [
    "In TFLEARN\n",
    "```\n",
    "    network = max_pool_2d(network, kernel8 , strides=stride8 )                         #10   POOL3         8\n",
    "    network = local_response_normalization(network)                                    #11   \n",
    "```\n",
    "becomes in Keras"
   ]
  },
  {
   "cell_type": "code",
   "execution_count": 15,
   "id": "f7e893eb",
   "metadata": {},
   "outputs": [],
   "source": [
    "AlexNet.add(MaxPooling2D(pool_size=(kernel8,kernel8), strides=(stride8,stride8), padding='same'))"
   ]
  },
  {
   "cell_type": "markdown",
   "id": "23f7353b",
   "metadata": {},
   "source": [
    "###  1st Fully Connected Layer"
   ]
  },
  {
   "cell_type": "markdown",
   "id": "e5f01a9f",
   "metadata": {},
   "source": [
    "In TFLEARN\n",
    "```\n",
    "    network = fully_connected(network, activation9, activation='tanh')                 #12    FC1          9\n",
    "    network = dropout(network, dropout13)                                              #13\n",
    "```\n",
    "first we need to passing it to a Fully Connected layer"
   ]
  },
  {
   "cell_type": "code",
   "execution_count": 16,
   "id": "b629ea68",
   "metadata": {},
   "outputs": [],
   "source": [
    "#Passing it to a Fully Connected layer\n",
    "AlexNet.add(Flatten())"
   ]
  },
  {
   "cell_type": "markdown",
   "id": "fff2d719",
   "metadata": {},
   "source": [
    "then write the connected layer"
   ]
  },
  {
   "cell_type": "code",
   "execution_count": 17,
   "id": "46cbd7d9",
   "metadata": {},
   "outputs": [],
   "source": [
    "# 1st Fully Connected Layer\n",
    "AlexNet.add(Dense(activation9, input_shape=(270, 480, 3,)))\n",
    "AlexNet.add(BatchNormalization())\n",
    "AlexNet.add(Activation('relu'))\n",
    "# Add Dropout to prevent overfitting\n",
    "AlexNet.add(Dropout(dropout13))"
   ]
  },
  {
   "cell_type": "markdown",
   "id": "94f5ee3a",
   "metadata": {},
   "source": [
    "### 2nd Fully Connected Layer"
   ]
  },
  {
   "cell_type": "markdown",
   "id": "d87cf763",
   "metadata": {},
   "source": [
    "In TFLEARN\n",
    "```\n",
    "    network = fully_connected(network, activation10, activation='tanh')                #14    FC2          10\n",
    "    network = dropout(network, dropout15)                                              #15\n",
    "```\n",
    "becomes in Keras"
   ]
  },
  {
   "cell_type": "code",
   "execution_count": 18,
   "id": "7b946b7f",
   "metadata": {},
   "outputs": [],
   "source": [
    "#2nd Fully Connected Layer\n",
    "AlexNet.add(Dense(activation10))\n",
    "AlexNet.add(BatchNormalization())\n",
    "AlexNet.add(Activation('relu'))\n",
    "#Add Dropout\n",
    "AlexNet.add(Dropout(dropout15))"
   ]
  },
  {
   "cell_type": "markdown",
   "id": "f51bbaa7",
   "metadata": {},
   "source": [
    "### 3rd Fully Connected Layer and Output Layer"
   ]
  },
  {
   "cell_type": "markdown",
   "id": "475534ce",
   "metadata": {},
   "source": [
    "In TFLEARN\n",
    "```\n",
    "    network = fully_connected(network, outputs11, activation='softmax')                #16    FC3          11\n",
    "    network = regression(network, optimizer='momentum',                                #17\n",
    "                     loss='categorical_crossentropy',\n",
    "                     learning_rate=learning_rate17)\n",
    "```\n",
    "becomes"
   ]
  },
  {
   "cell_type": "code",
   "execution_count": 20,
   "id": "391971d9",
   "metadata": {},
   "outputs": [],
   "source": [
    "#3rd Fully Connected Layer\n",
    "AlexNet.add(Dense(1000))\n",
    "AlexNet.add(BatchNormalization())\n",
    "AlexNet.add(Activation('relu'))\n",
    "#Add Dropout\n",
    "AlexNet.add(Dropout(dropout15))\n",
    "#Output Layer\n",
    "AlexNet.add(Dense(outputs11))\n",
    "AlexNet.add(BatchNormalization())\n",
    "AlexNet.add(Activation('softmax'))"
   ]
  },
  {
   "cell_type": "code",
   "execution_count": 21,
   "id": "3c044a5e",
   "metadata": {},
   "outputs": [
    {
     "name": "stdout",
     "output_type": "stream",
     "text": [
      "Model: \"sequential\"\n",
      "_________________________________________________________________\n",
      " Layer (type)                Output Shape              Param #   \n",
      "=================================================================\n",
      " conv2d (Conv2D)             (None, 68, 120, 4)        1456      \n",
      "                                                                 \n",
      " batch_normalization (BatchN  (None, 68, 120, 4)       16        \n",
      " ormalization)                                                   \n",
      "                                                                 \n",
      " activation (Activation)     (None, 68, 120, 4)        0         \n",
      "                                                                 \n",
      " conv2d_1 (Conv2D)           (None, 17, 30, 4)         1940      \n",
      "                                                                 \n",
      " batch_normalization_1 (Batc  (None, 17, 30, 4)        16        \n",
      " hNormalization)                                                 \n",
      "                                                                 \n",
      " activation_1 (Activation)   (None, 17, 30, 4)         0         \n",
      "                                                                 \n",
      " max_pooling2d (MaxPooling2D  (None, 9, 15, 4)         0         \n",
      " )                                                               \n",
      "                                                                 \n",
      " conv2d_2 (Conv2D)           (None, 9, 15, 8)          808       \n",
      "                                                                 \n",
      " batch_normalization_2 (Batc  (None, 9, 15, 8)         32        \n",
      " hNormalization)                                                 \n",
      "                                                                 \n",
      " activation_2 (Activation)   (None, 9, 15, 8)          0         \n",
      "                                                                 \n",
      " max_pooling2d_1 (MaxPooling  (None, 5, 8, 8)          0         \n",
      " 2D)                                                             \n",
      "                                                                 \n",
      " conv2d_3 (Conv2D)           (None, 5, 8, 12)          876       \n",
      "                                                                 \n",
      " batch_normalization_3 (Batc  (None, 5, 8, 12)         48        \n",
      " hNormalization)                                                 \n",
      "                                                                 \n",
      " activation_3 (Activation)   (None, 5, 8, 12)          0         \n",
      "                                                                 \n",
      " conv2d_4 (Conv2D)           (None, 5, 8, 12)          1308      \n",
      "                                                                 \n",
      " batch_normalization_4 (Batc  (None, 5, 8, 12)         48        \n",
      " hNormalization)                                                 \n",
      "                                                                 \n",
      " activation_4 (Activation)   (None, 5, 8, 12)          0         \n",
      "                                                                 \n",
      " conv2d_5 (Conv2D)           (None, 5, 8, 8)           872       \n",
      "                                                                 \n",
      " batch_normalization_5 (Batc  (None, 5, 8, 8)          32        \n",
      " hNormalization)                                                 \n",
      "                                                                 \n",
      " activation_5 (Activation)   (None, 5, 8, 8)           0         \n",
      "                                                                 \n",
      " max_pooling2d_2 (MaxPooling  (None, 3, 4, 8)          0         \n",
      " 2D)                                                             \n",
      "                                                                 \n",
      " flatten (Flatten)           (None, 96)                0         \n",
      "                                                                 \n",
      " dense (Dense)               (None, 120)               11640     \n",
      "                                                                 \n",
      " batch_normalization_6 (Batc  (None, 120)              480       \n",
      " hNormalization)                                                 \n",
      "                                                                 \n",
      " activation_6 (Activation)   (None, 120)               0         \n",
      "                                                                 \n",
      " dropout (Dropout)           (None, 120)               0         \n",
      "                                                                 \n",
      " dense_1 (Dense)             (None, 120)               14520     \n",
      "                                                                 \n",
      " batch_normalization_7 (Batc  (None, 120)              480       \n",
      " hNormalization)                                                 \n",
      "                                                                 \n",
      " activation_7 (Activation)   (None, 120)               0         \n",
      "                                                                 \n",
      " dropout_1 (Dropout)         (None, 120)               0         \n",
      "                                                                 \n",
      " dense_2 (Dense)             (None, 1000)              121000    \n",
      "                                                                 \n",
      " batch_normalization_8 (Batc  (None, 1000)             4000      \n",
      " hNormalization)                                                 \n",
      "                                                                 \n",
      " activation_8 (Activation)   (None, 1000)              0         \n",
      "                                                                 \n",
      " dropout_2 (Dropout)         (None, 1000)              0         \n",
      "                                                                 \n",
      " dense_3 (Dense)             (None, 1000)              1001000   \n",
      "                                                                 \n",
      " batch_normalization_9 (Batc  (None, 1000)             4000      \n",
      " hNormalization)                                                 \n",
      "                                                                 \n",
      " activation_9 (Activation)   (None, 1000)              0         \n",
      "                                                                 \n",
      " dropout_3 (Dropout)         (None, 1000)              0         \n",
      "                                                                 \n",
      " dense_4 (Dense)             (None, 29)                29029     \n",
      "                                                                 \n",
      " batch_normalization_10 (Bat  (None, 29)               116       \n",
      " chNormalization)                                                \n",
      "                                                                 \n",
      " activation_10 (Activation)  (None, 29)                0         \n",
      "                                                                 \n",
      "=================================================================\n",
      "Total params: 1,193,717\n",
      "Trainable params: 1,189,083\n",
      "Non-trainable params: 4,634\n",
      "_________________________________________________________________\n"
     ]
    }
   ],
   "source": [
    "#Model Summary\n",
    "AlexNet.summary()"
   ]
  },
  {
   "cell_type": "code",
   "execution_count": null,
   "id": "e1174989",
   "metadata": {},
   "outputs": [],
   "source": []
  },
  {
   "cell_type": "code",
   "execution_count": null,
   "id": "530cfe39",
   "metadata": {},
   "outputs": [],
   "source": []
  },
  {
   "cell_type": "code",
   "execution_count": null,
   "id": "b7a94c20",
   "metadata": {},
   "outputs": [],
   "source": []
  }
 ],
 "metadata": {
  "kernelspec": {
   "display_name": "Python (pygta5)",
   "language": "python",
   "name": "pygta5"
  },
  "language_info": {
   "codemirror_mode": {
    "name": "ipython",
    "version": 3
   },
   "file_extension": ".py",
   "mimetype": "text/x-python",
   "name": "python",
   "nbconvert_exporter": "python",
   "pygments_lexer": "ipython3",
   "version": "3.7.0"
  }
 },
 "nbformat": 4,
 "nbformat_minor": 5
}
